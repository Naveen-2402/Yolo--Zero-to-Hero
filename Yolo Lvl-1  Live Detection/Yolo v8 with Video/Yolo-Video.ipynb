{
 "cells": [
  {
   "cell_type": "code",
   "execution_count": 12,
   "id": "a71f3058-62f9-49f2-889e-9d60bef8c2ae",
   "metadata": {},
   "outputs": [],
   "source": [
    "from ultralytics import YOLO\n",
    "import cv2\n",
    "import cvzone\n",
    "import math"
   ]
  },
  {
   "cell_type": "code",
   "execution_count": 13,
   "id": "7f361283-7ed4-4e93-86eb-9a3f46c41183",
   "metadata": {},
   "outputs": [],
   "source": [
    "model = YOLO(\"yolov8l.pt\")  #using yolo large model"
   ]
  },
  {
   "cell_type": "code",
   "execution_count": 14,
   "id": "f268e36b-bcb3-4351-be50-d82de21fbbd0",
   "metadata": {},
   "outputs": [],
   "source": [
    "classNames = [\"person\", \"bicycle\", \"car\", \"motorbike\", \"aeroplane\", \"bus\", \"train\", \"truck\", \"boat\",\n",
    "              \"traffic light\", \"fire hydrant\", \"stop sign\", \"parking meter\", \"bench\", \"bird\", \"cat\",\n",
    "              \"dog\", \"horse\", \"sheep\", \"cow\", \"elephant\", \"bear\", \"zebra\", \"giraffe\", \"backpack\", \"umbrella\",\n",
    "              \"handbag\", \"tie\", \"suitcase\", \"frisbee\", \"skis\", \"snowboard\", \"sports ball\", \"kite\", \"baseball bat\",\n",
    "              \"baseball glove\", \"skateboard\", \"surfboard\", \"tennis racket\", \"bottle\", \"wine glass\", \"cup\",\n",
    "              \"fork\", \"knife\", \"spoon\", \"bowl\", \"banana\", \"apple\", \"sandwich\", \"orange\", \"broccoli\",\n",
    "              \"carrot\", \"hot dog\", \"pizza\", \"donut\", \"cake\", \"chair\", \"sofa\", \"pottedplant\", \"bed\",\n",
    "              \"diningtable\", \"toilet\", \"tvmonitor\", \"laptop\", \"mouse\", \"remote\", \"keyboard\", \"cell phone\",\n",
    "              \"microwave\", \"oven\", \"toaster\", \"sink\", \"refrigerator\", \"book\", \"clock\", \"vase\", \"scissors\",\n",
    "              \"teddy bear\", \"hair drier\", \"toothbrush\"\n",
    "              ]     #pre-defined class by YOLO"
   ]
  },
  {
   "cell_type": "code",
   "execution_count": 15,
   "id": "8ebe4cc9-9f2e-467f-bf34-1decf5770f68",
   "metadata": {},
   "outputs": [],
   "source": [
    "cap = cv2.VideoCapture(\"Videos/ppe-1-1.mp4\")    #Video Path"
   ]
  },
  {
   "cell_type": "code",
   "execution_count": null,
   "id": "98499d66-02b8-4825-8cd7-cdd98905d3dd",
   "metadata": {},
   "outputs": [],
   "source": [
    "while True:\n",
    "    success, img = cap.read()\n",
    "    result = model(img, stream=True)\n",
    "    for r in result:        #Selecting results in a frame\n",
    "        boxes = r.boxes     #Selecting all boundry box in that frame\n",
    "        for box in boxes:   #In a frame there will be many boundry box, selecting individual boxes\n",
    "            x1, y1, x2, y2 = box.xyxy[0]        #x1 -> left line, x2-> right line; y1 -> top, y2 -> bottom\n",
    "            x1, y1, x2, y2 = int(x1), int(y1), int(x2), int(y2)\n",
    "            w = x2-x1\n",
    "            h = y2-y1\n",
    "\n",
    "            cvzone.cornerRect(img,(x1,y1,w,h))      #drawing the boundry box using cvzone\n",
    "\n",
    "            #Confidence\n",
    "            conf = math.ceil(box.conf[0]*100)/100       #box.conf[0] is confidence of the object, rounding off\n",
    "            cls = int(box.cls[0])                       #detecting the object type or name\n",
    "\n",
    "            cvzone.putTextRect(img, f'{classNames[cls]} {conf}', (max(0,x1), max(35,y1)), scale=1, thickness=1)     #labeling the className anf confidence\n",
    "            \n",
    "    \n",
    "    cv2.imshow(\"Video\",img)\n",
    "    cv2.waitKey(1)        #0 -> to move each frame mannulay, 1-> play as a video"
   ]
  },
  {
   "cell_type": "code",
   "execution_count": null,
   "id": "779ce45e-51cc-4e2b-9767-8c44a8163a1e",
   "metadata": {},
   "outputs": [],
   "source": []
  }
 ],
 "metadata": {
  "kernelspec": {
   "display_name": "Python 3 (ipykernel)",
   "language": "python",
   "name": "python3"
  },
  "language_info": {
   "codemirror_mode": {
    "name": "ipython",
    "version": 3
   },
   "file_extension": ".py",
   "mimetype": "text/x-python",
   "name": "python",
   "nbconvert_exporter": "python",
   "pygments_lexer": "ipython3",
   "version": "3.12.6"
  }
 },
 "nbformat": 4,
 "nbformat_minor": 5
}
