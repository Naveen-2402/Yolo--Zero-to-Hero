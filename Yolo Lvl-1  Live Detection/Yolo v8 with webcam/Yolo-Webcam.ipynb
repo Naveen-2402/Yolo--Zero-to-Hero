{
 "cells": [
  {
   "cell_type": "code",
   "execution_count": 1,
   "id": "56c91fb6-9204-4d88-9ad2-00543d01e80a",
   "metadata": {},
   "outputs": [],
   "source": [
    "from ultralytics import YOLO\n",
    "import cv2\n",
    "import cvzone\n",
    "import math"
   ]
  },
  {
   "cell_type": "code",
   "execution_count": 2,
   "id": "8d338904-205b-455f-acff-208d92f1a52a",
   "metadata": {},
   "outputs": [
    {
     "data": {
      "text/plain": [
       "True"
      ]
     },
     "execution_count": 2,
     "metadata": {},
     "output_type": "execute_result"
    }
   ],
   "source": [
    "cap = cv2.VideoCapture(0)  #setting Camera 0-> first cam, 1-> next cam\n",
    "cap.set(3,1280) #width 3 refers width\n",
    "cap.set(4,720) #height -> 4"
   ]
  },
  {
   "cell_type": "code",
   "execution_count": 3,
   "id": "06b99730-7afc-4199-b10c-ad5db53f3c07",
   "metadata": {},
   "outputs": [],
   "source": [
    "classNames = [\"person\", \"bicycle\", \"car\", \"motorbike\", \"aeroplane\", \"bus\", \"train\", \"truck\", \"boat\",\n",
    "              \"traffic light\", \"fire hydrant\", \"stop sign\", \"parking meter\", \"bench\", \"bird\", \"cat\",\n",
    "              \"dog\", \"horse\", \"sheep\", \"cow\", \"elephant\", \"bear\", \"zebra\", \"giraffe\", \"backpack\", \"umbrella\",\n",
    "              \"handbag\", \"tie\", \"suitcase\", \"frisbee\", \"skis\", \"snowboard\", \"sports ball\", \"kite\", \"baseball bat\",\n",
    "              \"baseball glove\", \"skateboard\", \"surfboard\", \"tennis racket\", \"bottle\", \"wine glass\", \"cup\",\n",
    "              \"fork\", \"knife\", \"spoon\", \"bowl\", \"banana\", \"apple\", \"sandwich\", \"orange\", \"broccoli\",\n",
    "              \"carrot\", \"hot dog\", \"pizza\", \"donut\", \"cake\", \"chair\", \"sofa\", \"pottedplant\", \"bed\",\n",
    "              \"diningtable\", \"toilet\", \"tvmonitor\", \"laptop\", \"mouse\", \"remote\", \"keyboard\", \"cell phone\",\n",
    "              \"microwave\", \"oven\", \"toaster\", \"sink\", \"refrigerator\", \"book\", \"clock\", \"vase\", \"scissors\",\n",
    "              \"teddy bear\", \"hair drier\", \"toothbrush\"\n",
    "              ]     #pre-defined class by YOLO"
   ]
  },
  {
   "cell_type": "code",
   "execution_count": 4,
   "id": "ec701559-9e4e-4f3d-aa4e-5f995e5d2c0b",
   "metadata": {},
   "outputs": [],
   "source": [
    "model = YOLO(\"yolov8n.pt\")"
   ]
  },
  {
   "cell_type": "code",
   "execution_count": null,
   "id": "fcc02005-e932-43cc-b07a-e2ecd954f74a",
   "metadata": {},
   "outputs": [],
   "source": [
    "while True :\n",
    "    success, img = cap.read()\n",
    "    result = model(img, stream=True)\n",
    "    for r in result:        #Selecting results in a frame\n",
    "        boxes = r.boxes     #Selecting all boundry box in that frame\n",
    "        for box in boxes:   #In a frame there will be many boundry box, selecting individual boxes\n",
    "            x1,y1,x2,y2 = box.xyxy[0]       #x1 -> minimum point of x,     x2->  max point of x; y1 ->  minimum point of y,  y2 -> max point of y\n",
    "            x1,y1,x2,y2 = int(x1), int(y1), int(x2), int(y2)\n",
    "            \n",
    "            #print(x1,y1,x2,y2)\n",
    "\n",
    "            w = x2-x1\n",
    "            h = y2-y1\n",
    "            cvzone.cornerRect(img,(x1,y1,w,h))  #drawing the boundry box using cvzone\n",
    "\n",
    "            #Confidence\n",
    "            conf = math.ceil((box.conf[0]*100))/100     #box.conf[0] is confidence of the object, rounding off\n",
    "\n",
    "\n",
    "            #Class Name\n",
    "            cls = int(box.cls[0])   #detecting the object type or name\n",
    "            cvzone.putTextRect(img,f'{classNames[cls]} {conf}', (max(0,x1),max(35,y1)), scale=3)    #labeling the className anf confidence\n",
    "            \n",
    "    cv2.imshow(\"Video\",img)     #Displaying the WebCam Video (Window name, video)\n",
    "    cv2.waitKey(1)              #0 -> to move each frame mannulay, 1-> play as a video\n",
    "\n"
   ]
  },
  {
   "cell_type": "code",
   "execution_count": null,
   "id": "0c85c3b9-d664-4ec5-9f0a-017f0b6fbaa1",
   "metadata": {},
   "outputs": [],
   "source": []
  }
 ],
 "metadata": {
  "kernelspec": {
   "display_name": "Python 3 (ipykernel)",
   "language": "python",
   "name": "python3"
  },
  "language_info": {
   "codemirror_mode": {
    "name": "ipython",
    "version": 3
   },
   "file_extension": ".py",
   "mimetype": "text/x-python",
   "name": "python",
   "nbconvert_exporter": "python",
   "pygments_lexer": "ipython3",
   "version": "3.12.6"
  }
 },
 "nbformat": 4,
 "nbformat_minor": 5
}
