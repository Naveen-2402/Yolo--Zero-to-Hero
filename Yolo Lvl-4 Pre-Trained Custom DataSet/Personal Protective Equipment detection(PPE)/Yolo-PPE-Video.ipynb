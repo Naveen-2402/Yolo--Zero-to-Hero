{
 "cells": [
  {
   "cell_type": "code",
   "execution_count": 1,
   "id": "a71f3058-62f9-49f2-889e-9d60bef8c2ae",
   "metadata": {},
   "outputs": [],
   "source": [
    "from ultralytics import YOLO\n",
    "import cv2\n",
    "import cvzone\n",
    "import math"
   ]
  },
  {
   "cell_type": "code",
   "execution_count": 2,
   "id": "7f361283-7ed4-4e93-86eb-9a3f46c41183",
   "metadata": {},
   "outputs": [],
   "source": [
    "model = YOLO(\"ppe.pt\")"
   ]
  },
  {
   "cell_type": "code",
   "execution_count": 3,
   "id": "f268e36b-bcb3-4351-be50-d82de21fbbd0",
   "metadata": {},
   "outputs": [],
   "source": [
    "classNames = ['Excavator', 'Gloves', 'Hardhat', 'Ladder', 'Mask', 'NO-Hardhat', 'NO-Mask', 'NO-Safety Vest',\n",
    "              'Person', 'SUV', 'Safety Cone', 'Safety Vest', 'bus', 'dump truck', 'fire hydrant', 'machinery',\n",
    "              'mini-van', 'sedan', 'semi', 'trailer', 'truck and trailer', 'truck', 'van', 'vehicle', 'wheel loader'\n",
    "             ]"
   ]
  },
  {
   "cell_type": "code",
   "execution_count": 4,
   "id": "8ebe4cc9-9f2e-467f-bf34-1decf5770f68",
   "metadata": {},
   "outputs": [],
   "source": [
    "cap = cv2.VideoCapture(\"Videos/ppe-3-1.mp4\")\n",
    "myColor = (0,0,255)"
   ]
  },
  {
   "cell_type": "code",
   "execution_count": null,
   "id": "98499d66-02b8-4825-8cd7-cdd98905d3dd",
   "metadata": {},
   "outputs": [],
   "source": [
    "while True:\n",
    "    success, img = cap.read()\n",
    "    result = model(img, stream=True)\n",
    "    for r in result:\n",
    "        boxes = r.boxes\n",
    "        for box in boxes:\n",
    "            x1, y1, x2, y2 = box.xyxy[0]\n",
    "            x1, y1, x2, y2 = int(x1), int(y1), int(x2), int(y2)\n",
    "            w = x2-x1\n",
    "            h = y2-y1\n",
    "\n",
    "            #cvzone.cornerRect(img,(x1,y1,w,h))\n",
    "            cv2.rectangle(img, (x1,y1),(x2,y2), (myColor),3)\n",
    "\n",
    "            #Confidence\n",
    "            conf = math.ceil(box.conf[0]*100)/100\n",
    "            cls = int(box.cls[0])\n",
    "            if cls == 5 or cls == 6 or cls ==7:\n",
    "                myColor = (0,0,255)\n",
    "            else:\n",
    "                myColor = (0, 255, 0)\n",
    "\n",
    "            cv2.rectangle(img, (x1,y1),(x2,y2), (myColor),3)\n",
    "            cvzone.putTextRect(img, f'{classNames[cls]} {conf}', (max(0,x1), max(35,y1)), scale=1, thickness=1, colorB=myColor, colorT= (255,255,255), colorR= myColor)\n",
    "            \n",
    "    \n",
    "    cv2.imshow(\"bikes\", img)\n",
    "    cv2.waitKey(1)"
   ]
  },
  {
   "cell_type": "code",
   "execution_count": null,
   "id": "779ce45e-51cc-4e2b-9767-8c44a8163a1e",
   "metadata": {},
   "outputs": [],
   "source": []
  }
 ],
 "metadata": {
  "kernelspec": {
   "display_name": "Python 3 (ipykernel)",
   "language": "python",
   "name": "python3"
  },
  "language_info": {
   "codemirror_mode": {
    "name": "ipython",
    "version": 3
   },
   "file_extension": ".py",
   "mimetype": "text/x-python",
   "name": "python",
   "nbconvert_exporter": "python",
   "pygments_lexer": "ipython3",
   "version": "3.12.6"
  }
 },
 "nbformat": 4,
 "nbformat_minor": 5
}
