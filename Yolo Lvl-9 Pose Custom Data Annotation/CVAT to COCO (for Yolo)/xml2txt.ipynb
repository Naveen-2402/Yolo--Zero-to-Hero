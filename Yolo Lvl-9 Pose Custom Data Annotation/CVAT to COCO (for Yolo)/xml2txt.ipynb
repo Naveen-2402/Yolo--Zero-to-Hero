{
 "cells": [
  {
   "cell_type": "code",
   "execution_count": 1,
   "id": "d2ada200-8459-4f11-b3b4-d67dd68951ba",
   "metadata": {},
   "outputs": [],
   "source": [
    "import os.path\n",
    "from xml.dom import minidom"
   ]
  },
  {
   "cell_type": "code",
   "execution_count": 2,
   "id": "31cea4c9-873a-411b-9605-58a7a238f92e",
   "metadata": {},
   "outputs": [],
   "source": [
    "# Output directory\n",
    "out_dir = '../Antelope/Annotation'\n",
    "if not os.path.exists(out_dir):\n",
    "    os.makedirs(out_dir)\n",
    "\n",
    "# Parse the XML file\n",
    "file = minidom.parse('../Antelope/Annotation/annotations.xml')\n",
    "\n",
    "# Extract all image elements\n",
    "images = file.getElementsByTagName('image')\n",
    "\n",
    "# Iterate over each image element\n",
    "for image in images:\n",
    "    width = int(image.getAttribute('width'))\n",
    "    height = int(image.getAttribute('height'))\n",
    "    name = image.getAttribute('name')\n",
    "\n",
    "    # Get the bounding box details\n",
    "    bbox = image.getElementsByTagName('box')[0]\n",
    "    xtl = int(float(bbox.getAttribute('xtl')))\n",
    "    ytl = int(float(bbox.getAttribute('ytl')))\n",
    "    xbr = int(float(bbox.getAttribute('xbr')))\n",
    "    ybr = int(float(bbox.getAttribute('ybr')))\n",
    "    w = xbr - xtl\n",
    "    h = ybr - ytl\n",
    "\n",
    "    # Open a label file for the image\n",
    "    label_file = open(os.path.join(out_dir, name[:-4] + '.txt'), 'w')\n",
    "\n",
    "    # Process the points (keypoints) for the image\n",
    "    points_elements = image.getElementsByTagName('points')\n",
    "    for points_elem in points_elements:\n",
    "        points_str = points_elem.getAttribute('points')\n",
    "        \n",
    "        # Split the points by ';' and further split each point by ',' to extract x, y coordinates\n",
    "        points = points_str.split(';')\n",
    "        points_ = []\n",
    "        for p in points:\n",
    "            p = p.split(',')\n",
    "            p1, p2 = p\n",
    "            points_.append([int(float(p1)), int(float(p2))])\n",
    "\n",
    "        # Write the YOLO format for bounding box (class 0 for quadruped)\n",
    "        label_file.write(f\"0 {(xtl + (w / 2)) / width} {(ytl + (h / 2)) / height} {w / width} {h / height} \")\n",
    "\n",
    "        # Write normalized keypoints (if any)\n",
    "        for p_ in points_:\n",
    "            label_file.write(f\"{p_[0] / width} {p_[1] / height} \")\n",
    "\n",
    "        # End the line in the label file\n",
    "        label_file.write('\\n')\n",
    "\n",
    "    # Close the label file\n",
    "    label_file.close()"
   ]
  },
  {
   "cell_type": "code",
   "execution_count": null,
   "id": "6e8e9ea0-c8dd-44fa-8b90-e326d9ff5682",
   "metadata": {},
   "outputs": [],
   "source": []
  }
 ],
 "metadata": {
  "kernelspec": {
   "display_name": "Python 3 (ipykernel)",
   "language": "python",
   "name": "python3"
  },
  "language_info": {
   "codemirror_mode": {
    "name": "ipython",
    "version": 3
   },
   "file_extension": ".py",
   "mimetype": "text/x-python",
   "name": "python",
   "nbconvert_exporter": "python",
   "pygments_lexer": "ipython3",
   "version": "3.12.6"
  }
 },
 "nbformat": 4,
 "nbformat_minor": 5
}
