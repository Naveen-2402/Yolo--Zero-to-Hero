{
 "cells": [
  {
   "cell_type": "code",
   "execution_count": null,
   "id": "4eeeb41d-e927-4237-80ba-72bbf7a3a1dd",
   "metadata": {},
   "outputs": [],
   "source": [
    "import os\n",
    "import shutil\n",
    "import random\n",
    "\n",
    "def split_train_val_data():\n",
    "    # Define the path for the directories\n",
    "    base_dir = os.getcwd()  # Current working directory\n",
    "    annotation_dir = os.path.join(base_dir, \"Annotation\")\n",
    "    images_dir = os.path.join(base_dir, \"Data/images\")\n",
    "    labels_dir = os.path.join(base_dir, \"Data/labels\")\n",
    "    \n",
    "    # Create directories if they don't exist\n",
    "    os.makedirs(os.path.join(images_dir, \"train\"), exist_ok=True)\n",
    "    os.makedirs(os.path.join(images_dir, \"val\"), exist_ok=True)\n",
    "    os.makedirs(os.path.join(labels_dir, \"train\"), exist_ok=True)\n",
    "    os.makedirs(os.path.join(labels_dir, \"val\"), exist_ok=True)\n",
    "\n",
    "    # Get all the files from the Annotation folder\n",
    "    annotation_files = [f for f in os.listdir(annotation_dir) if f.endswith('.jpg')]\n",
    "    \n",
    "    # Randomly shuffle the files to ensure a random split\n",
    "    random.shuffle(annotation_files)\n",
    "\n",
    "    # Calculate the split index (70% for training, 30% for validation)\n",
    "    split_index = int(0.7 * len(annotation_files))\n",
    "\n",
    "    # Split files into training and validation sets\n",
    "    train_files = annotation_files[:split_index]\n",
    "    val_files = annotation_files[split_index:]\n",
    "\n",
    "    # Move train files to the appropriate directories\n",
    "    for file_name in train_files:\n",
    "        # Corresponding .txt file for each .jpg file\n",
    "        txt_file = file_name.replace('.jpg', '.txt')\n",
    "\n",
    "        # Move the image and label to the 'train' directories\n",
    "        shutil.move(os.path.join(annotation_dir, file_name), os.path.join(images_dir, \"train\", file_name))\n",
    "        shutil.move(os.path.join(annotation_dir, txt_file), os.path.join(labels_dir, \"train\", txt_file))\n",
    "\n",
    "    # Move validation files to the appropriate directories\n",
    "    for file_name in val_files:\n",
    "        # Corresponding .txt file for each .jpg file\n",
    "        txt_file = file_name.replace('.jpg', '.txt')\n",
    "\n",
    "        # Move the image and label to the 'val' directories\n",
    "        shutil.move(os.path.join(annotation_dir, file_name), os.path.join(images_dir, \"val\", file_name))\n",
    "        shutil.move(os.path.join(annotation_dir, txt_file), os.path.join(labels_dir, \"val\", txt_file))\n",
    "\n",
    "    print(f\"Data split completed: {len(train_files)} for training and {len(val_files)} for validation.\")\n",
    "\n",
    "# Call the function\n",
    "split_train_val_data()\n"
   ]
  },
  {
   "cell_type": "code",
   "execution_count": null,
   "id": "40fcc922-d57d-43bf-8d5c-09a537841cf4",
   "metadata": {},
   "outputs": [],
   "source": []
  }
 ],
 "metadata": {
  "kernelspec": {
   "display_name": "Python 3 (ipykernel)",
   "language": "python",
   "name": "python3"
  },
  "language_info": {
   "codemirror_mode": {
    "name": "ipython",
    "version": 3
   },
   "file_extension": ".py",
   "mimetype": "text/x-python",
   "name": "python",
   "nbconvert_exporter": "python",
   "pygments_lexer": "ipython3",
   "version": "3.12.6"
  }
 },
 "nbformat": 4,
 "nbformat_minor": 5
}
