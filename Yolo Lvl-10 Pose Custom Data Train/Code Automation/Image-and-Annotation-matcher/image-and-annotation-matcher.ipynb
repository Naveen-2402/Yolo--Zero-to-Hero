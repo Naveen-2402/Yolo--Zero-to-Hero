{
 "cells": [
  {
   "cell_type": "code",
   "execution_count": null,
   "id": "fc06af8a-231b-438d-b359-aa035ac78c73",
   "metadata": {},
   "outputs": [],
   "source": [
    "import os\n",
    "import shutil\n",
    "\n",
    "# Define the paths for the folders\n",
    "raw_folder = 'RAW'\n",
    "annotation_folder = 'Annotation'\n",
    "\n",
    "# Get a list of all .pickle filenames in the Annotation folder\n",
    "pickle_files = {os.path.splitext(f)[0] for f in os.listdir(annotation_folder) if f.endswith('.pickle')}\n",
    "\n",
    "# Iterate through all .jpg files in the RAW folder\n",
    "for jpg_file in os.listdir(raw_folder):\n",
    "    if jpg_file.endswith('.jpg'):\n",
    "        # Get the base filename (without extension)\n",
    "        base_name = os.path.splitext(jpg_file)[0]\n",
    "\n",
    "        # Check if there's a matching .pickle file in the Annotation folder\n",
    "        if base_name in pickle_files:\n",
    "            # Define the source and destination paths\n",
    "            source_path = os.path.join(raw_folder, jpg_file)\n",
    "            destination_path = os.path.join(annotation_folder, jpg_file)\n",
    "\n",
    "            # Copy the .jpg file to the Annotation folder\n",
    "            shutil.copy(source_path, destination_path)\n",
    "            print(f\"Copied {jpg_file} to {annotation_folder}\")\n"
   ]
  },
  {
   "cell_type": "code",
   "execution_count": null,
   "id": "54e1f277-23fe-4c22-a48d-7e16d20c2d93",
   "metadata": {},
   "outputs": [],
   "source": []
  }
 ],
 "metadata": {
  "kernelspec": {
   "display_name": "Python 3 (ipykernel)",
   "language": "python",
   "name": "python3"
  },
  "language_info": {
   "codemirror_mode": {
    "name": "ipython",
    "version": 3
   },
   "file_extension": ".py",
   "mimetype": "text/x-python",
   "name": "python",
   "nbconvert_exporter": "python",
   "pygments_lexer": "ipython3",
   "version": "3.12.6"
  }
 },
 "nbformat": 4,
 "nbformat_minor": 5
}
