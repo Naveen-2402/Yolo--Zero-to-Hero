{
 "cells": [
  {
   "cell_type": "code",
   "execution_count": 1,
   "id": "e1f829da-e3d2-4503-8760-725aca0ef9a0",
   "metadata": {},
   "outputs": [],
   "source": [
    "from ultralytics import YOLO\n",
    "import cv2\n",
    "import cvzone\n",
    "import math"
   ]
  },
  {
   "cell_type": "code",
   "execution_count": 2,
   "id": "c32f86c7-dea4-4bbc-8162-0f0c37653aed",
   "metadata": {},
   "outputs": [],
   "source": [
    "classNames = ['License Plate']"
   ]
  },
  {
   "cell_type": "code",
   "execution_count": 3,
   "id": "215871db-0255-4548-b2b1-060f155d1900",
   "metadata": {},
   "outputs": [],
   "source": [
    "model = YOLO('lcv11.pt')      #custom trained model \n",
    "cap = cv2.VideoCapture(\"Videos/LP-2.mp4\")\n",
    "#cap = cv2.VideoCapture(\"Images/2.jpg\")"
   ]
  },
  {
   "cell_type": "code",
   "execution_count": null,
   "id": "cd0ab2dc-a91b-4fca-9f73-db5aab90ab15",
   "metadata": {},
   "outputs": [],
   "source": [
    "while True:\n",
    "    success, img = cap.read()\n",
    "    result = model(img, stream=True)\n",
    "    for r in result:\n",
    "        boxes = r.boxes\n",
    "        for box in boxes:\n",
    "            x1, y1, x2, y2 = box.xyxy[0]\n",
    "            x1, y1, x2, y2 = int(x1), int(y1), int(x2), int(y2)\n",
    "            w = x2-x1;\n",
    "            h = y2-y1\n",
    "\n",
    "            #Confidence and Class\n",
    "            conf = (math.ceil(box.conf[0] * 100))/100\n",
    "            cls = classNames[int(box.cls[0])]\n",
    "\n",
    "            cvzone.cornerRect(img, (x1, y1, w, h))\n",
    "            cvzone.putTextRect(img, f'{cls} {conf}', (max(0,x1), max(35,y1)))\n",
    "\n",
    "    cv2.imshow(\"Video\",img)\n",
    "    cv2.waitKey(1)\n",
    "            "
   ]
  },
  {
   "cell_type": "code",
   "execution_count": null,
   "id": "79124c6d-ffdf-482b-b851-28b22c060d35",
   "metadata": {},
   "outputs": [],
   "source": []
  }
 ],
 "metadata": {
  "kernelspec": {
   "display_name": "Python 3 (ipykernel)",
   "language": "python",
   "name": "python3"
  },
  "language_info": {
   "codemirror_mode": {
    "name": "ipython",
    "version": 3
   },
   "file_extension": ".py",
   "mimetype": "text/x-python",
   "name": "python",
   "nbconvert_exporter": "python",
   "pygments_lexer": "ipython3",
   "version": "3.12.6"
  }
 },
 "nbformat": 4,
 "nbformat_minor": 5
}
