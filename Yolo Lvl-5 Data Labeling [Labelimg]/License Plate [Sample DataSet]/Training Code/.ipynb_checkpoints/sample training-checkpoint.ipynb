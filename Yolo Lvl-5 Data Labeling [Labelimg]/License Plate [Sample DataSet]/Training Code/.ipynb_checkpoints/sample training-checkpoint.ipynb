{
 "cells": [
  {
   "cell_type": "code",
   "execution_count": null,
   "id": "acfe32b8-96e9-421f-9b78-53f9f7b116ec",
   "metadata": {},
   "outputs": [],
   "source": [
    "!nvidia-smi    #check gpu specification "
   ]
  },
  {
   "cell_type": "code",
   "execution_count": null,
   "id": "4724d6cf-ad4d-4da4-88ba-cbe8a57de7d1",
   "metadata": {},
   "outputs": [],
   "source": [
    "!pip install ultralytics    #install ultralytics for Yolo"
   ]
  },
  {
   "cell_type": "code",
   "execution_count": null,
   "id": "c90eadd8-210d-4ed5-969f-d5c67e2e259a",
   "metadata": {},
   "outputs": [],
   "source": [
    "from ultralytics import YOLO"
   ]
  },
  {
   "cell_type": "code",
   "execution_count": null,
   "id": "29ac7248-973d-4a45-a3f9-810e293912c0",
   "metadata": {},
   "outputs": [],
   "source": [
    "!yolo task=detect mode=train model=yolo11l.pt data=\"../content/drive/MyDrive/License Plate/data.yaml\" epochs=75 imgsz=640\n",
    "\n",
    "# task=detect: Specifies that the task is object detection.\n",
    "# mode=train: Indicates the model is in training mode.\n",
    "# model=yolov8l.pt: Uses the YOLOv8 large pre-trained model as a starting point.\n",
    "# data=\"../content/drive/MyDrive/License Plate/data.yaml\": path to data.yaml (which has the execution commands).\n",
    "# epochs=75: The model will go through the entire dataset 75 times during training.\n",
    "# imgsz=640: All images will be resized to 640x640 pixels for training."
   ]
  }
 ],
 "metadata": {
  "kernelspec": {
   "display_name": "Python 3 (ipykernel)",
   "language": "python",
   "name": "python3"
  },
  "language_info": {
   "codemirror_mode": {
    "name": "ipython",
    "version": 3
   },
   "file_extension": ".py",
   "mimetype": "text/x-python",
   "name": "python",
   "nbconvert_exporter": "python",
   "pygments_lexer": "ipython3",
   "version": "3.12.6"
  }
 },
 "nbformat": 4,
 "nbformat_minor": 5
}
