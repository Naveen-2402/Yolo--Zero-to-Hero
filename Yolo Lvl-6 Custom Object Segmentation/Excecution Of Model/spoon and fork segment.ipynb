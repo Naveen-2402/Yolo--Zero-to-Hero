{
 "cells": [
  {
   "cell_type": "code",
   "execution_count": 1,
   "id": "35a3c293-8165-4dbb-a017-b3293643d755",
   "metadata": {},
   "outputs": [],
   "source": [
    "from ultralytics import YOLO\n",
    "import cv2"
   ]
  },
  {
   "cell_type": "code",
   "execution_count": 2,
   "id": "35119f04-05c5-48ff-9f82-be0c033d7e3b",
   "metadata": {},
   "outputs": [],
   "source": [
    "model = YOLO('best.pt');"
   ]
  },
  {
   "cell_type": "code",
   "execution_count": 8,
   "id": "1eccb16a-3b08-464d-b10a-c87faf7d0238",
   "metadata": {},
   "outputs": [
    {
     "name": "stdout",
     "output_type": "stream",
     "text": [
      "\n",
      "image 1/1 C:\\Users\\Naveen\\Desktop\\Python\\Yolo\\Object Segmentation\\Spoon and Fork\\Images\\2.jpg: 640x640 1 Spoon, 1 Fork, 1314.0ms\n",
      "Speed: 57.0ms preprocess, 1314.0ms inference, 8.0ms postprocess per image at shape (1, 3, 640, 640)\n"
     ]
    },
    {
     "data": {
      "text/plain": [
       "-1"
      ]
     },
     "execution_count": 8,
     "metadata": {},
     "output_type": "execute_result"
    }
   ],
   "source": [
    "results = model(\"Images/2.jpg\", show=True)\n",
    "cv2.waitKey(0)"
   ]
  },
  {
   "cell_type": "code",
   "execution_count": null,
   "id": "c693f7f6-df6c-4a1b-97e6-fcbd0e0ef456",
   "metadata": {},
   "outputs": [],
   "source": []
  }
 ],
 "metadata": {
  "kernelspec": {
   "display_name": "Python 3 (ipykernel)",
   "language": "python",
   "name": "python3"
  },
  "language_info": {
   "codemirror_mode": {
    "name": "ipython",
    "version": 3
   },
   "file_extension": ".py",
   "mimetype": "text/x-python",
   "name": "python",
   "nbconvert_exporter": "python",
   "pygments_lexer": "ipython3",
   "version": "3.12.6"
  }
 },
 "nbformat": 4,
 "nbformat_minor": 5
}
