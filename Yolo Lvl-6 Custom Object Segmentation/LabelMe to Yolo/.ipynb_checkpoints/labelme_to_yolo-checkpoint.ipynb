{
 "cells": [
  {
   "cell_type": "code",
   "execution_count": null,
   "id": "a21b6593",
   "metadata": {},
   "outputs": [],
   "source": [
    "!pip install labelme opencv-python pillow scikit-learn numpy"
   ]
  },
  {
   "cell_type": "code",
   "execution_count": 8,
   "id": "8e4438a9-3f2a-4ebe-af9e-3bd5537e1642",
   "metadata": {},
   "outputs": [
    {
     "name": "stdout",
     "output_type": "stream",
     "text": [
      "Converting 1.json ...\n",
      "Converting 2.json ...\n",
      "Converting 3.json ...\n",
      "Converting 4.json ...\n",
      "Converting 5.json ...\n"
     ]
    }
   ],
   "source": [
    "# Import the class from the Python file\n",
    "from labelme_to_yolo import Labelme2YOLO\n",
    "\n",
    "# Set the path to your LabelMe JSON directory\n",
    "json_dir = \"../Spoon and Fork/Annotation\"  # Change to your actual path\n",
    "to_seg = True  # Set to True if you want segmentation dataset\n",
    "\n",
    "# Initialize the converter\n",
    "converter = Labelme2YOLO(json_dir, to_seg=to_seg)\n",
    "\n",
    "# Convert the data to YOLO format\n",
    "converter.convert()\n"
   ]
  },
  {
   "cell_type": "code",
   "execution_count": null,
   "id": "a18f1a31-63e9-4964-9a95-c3dc42f6e135",
   "metadata": {},
   "outputs": [],
   "source": []
  }
 ],
 "metadata": {
  "kernelspec": {
   "display_name": "Python 3 (ipykernel)",
   "language": "python",
   "name": "python3"
  },
  "language_info": {
   "codemirror_mode": {
    "name": "ipython",
    "version": 3
   },
   "file_extension": ".py",
   "mimetype": "text/x-python",
   "name": "python",
   "nbconvert_exporter": "python",
   "pygments_lexer": "ipython3",
   "version": "3.12.6"
  }
 },
 "nbformat": 4,
 "nbformat_minor": 5
}
