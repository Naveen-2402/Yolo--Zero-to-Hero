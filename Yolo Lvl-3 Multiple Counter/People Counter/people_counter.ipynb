{
 "cells": [
  {
   "cell_type": "code",
   "execution_count": 57,
   "id": "f67c268d-ce07-4e3f-925d-8473c1b7edb9",
   "metadata": {},
   "outputs": [],
   "source": [
    "from ultralytics import YOLO\n",
    "from sort import *\n",
    "import cv2\n",
    "import cvzone\n",
    "import math"
   ]
  },
  {
   "cell_type": "code",
   "execution_count": 58,
   "id": "cc822584-cba3-4317-b487-23b490460ead",
   "metadata": {},
   "outputs": [],
   "source": [
    "classNames = [\"person\", \"bicycle\", \"car\", \"motorbike\", \"aeroplane\", \"bus\", \"train\", \"truck\", \"boat\",\n",
    "              \"traffic light\", \"fire hydrant\", \"stop sign\", \"parking meter\", \"bench\", \"bird\", \"cat\",\n",
    "              \"dog\", \"horse\", \"sheep\", \"cow\", \"elephant\", \"bear\", \"zebra\", \"giraffe\", \"backpack\", \"umbrella\",\n",
    "              \"handbag\", \"tie\", \"suitcase\", \"frisbee\", \"skis\", \"snowboard\", \"sports ball\", \"kite\", \"baseball bat\",\n",
    "              \"baseball glove\", \"skateboard\", \"surfboard\", \"tennis racket\", \"bottle\", \"wine glass\", \"cup\",\n",
    "              \"fork\", \"knife\", \"spoon\", \"bowl\", \"banana\", \"apple\", \"sandwich\", \"orange\", \"broccoli\",\n",
    "              \"carrot\", \"hot dog\", \"pizza\", \"donut\", \"cake\", \"chair\", \"sofa\", \"pottedplant\", \"bed\",\n",
    "              \"diningtable\", \"toilet\", \"tvmonitor\", \"laptop\", \"mouse\", \"remote\", \"keyboard\", \"cell phone\",\n",
    "              \"microwave\", \"oven\", \"toaster\", \"sink\", \"refrigerator\", \"book\", \"clock\", \"vase\", \"scissors\",\n",
    "              \"teddy bear\", \"hair drier\", \"toothbrush\"\n",
    "              ]"
   ]
  },
  {
   "cell_type": "code",
   "execution_count": 59,
   "id": "3b294bfb-e55d-4c35-968a-49f8b1c1be48",
   "metadata": {},
   "outputs": [],
   "source": [
    "model = YOLO(\"yolov8n.pt\")\n",
    "cap = cv2.VideoCapture(\"Videos/people.mp4\")\n",
    "mask = cv2.imread(\"Images/people_mask.png\")    # Load an image that acts as a mask, limiting object detection to a specific area (e.g., where people are present)."
   ]
  },
  {
   "cell_type": "code",
   "execution_count": 60,
   "id": "030dbe88-0e83-40b4-abdb-62ca639843c9",
   "metadata": {},
   "outputs": [],
   "source": [
    "#Tracking\n",
    "\n",
    "tracker = Sort(max_age=20,min_hits=3 ,iou_threshold=0.3)\n",
    "\n",
    "# Counting the objects that cross two specific areas: one for counting upwards and one for counting downwards.\n",
    "\n",
    "limitsUp = [103, 161, 296, 161]  # Define the coordinates for the upper counting region (e.g., x1, y1, x2, y2) where objects moving upwards will be counted.\n",
    "limitsDown = [600, 489, 735, 489]  # Define the coordinates for the lower counting region (e.g., x1, y1, x2, y2) where objects moving downwards will be counted.\n",
    "totalCountUp = []  # List to store the IDs of objects that cross the upper counting region.\n",
    "totalCountDown = []  # List to store the IDs of objects that cross the lower counting region."
   ]
  },
  {
   "cell_type": "code",
   "execution_count": null,
   "id": "aabe7ca4-9ea9-4e02-8d3c-5b111deb902d",
   "metadata": {},
   "outputs": [],
   "source": [
    "while True:\n",
    "    success, img = cap.read()\n",
    "    imageRegion = cv2.bitwise_and(img, mask)\n",
    "    detections = np.empty((0,5))\n",
    "    \n",
    "    result = model(imageRegion, stream=True)\n",
    "    for r in result:\n",
    "        boxes = r.boxes\n",
    "        for box in boxes:\n",
    "            x1, y1, x2, y2 = box.xyxy[0]\n",
    "            x1, y1, x2, y2 = int(x1), int(y1), int(x2), int(y2)\n",
    "            w = x2-x1\n",
    "            h = y2-y1\n",
    "\n",
    "            conf = (math.ceil(box.conf[0] * 100))/100\n",
    "            currentClass = classNames[int(box.cls[0])]\n",
    "\n",
    "            if currentClass == \"person\" and conf > 0.3:\n",
    "                currentArray = np.array([x1, y1, x2, y2, conf])\n",
    "                detections = np.vstack((detections, currentArray))\n",
    "\n",
    "\n",
    "    resultTracker = tracker.update(detections)\n",
    "    cv2.line(img, (limitsUp[0], limitsUp[1]), (limitsUp[2], limitsUp[3]), (0,0,225),5)\n",
    "    cv2.line(img, (limitsDown[0], limitsDown[1]), (limitsDown[2], limitsDown[3]), (0,0,225),5)\n",
    "    \n",
    "    for results in resultTracker:\n",
    "        x1, y1, x2, y2, Id = results\n",
    "        x1, y1, x2, y2, Id = int(x1), int(y1), int(x2), int(y2), int(Id)\n",
    "\n",
    "        cvzone.cornerRect(img, (x1, y1, w, h), l=9, rt=2, colorR=(255,0,255))\n",
    "        cvzone.putTextRect(img, f'{Id}' ,(max(0,x1), max(35,y1)), scale = 2, thickness = 3, offset=10)\n",
    "        cx,cy = int(x1+w/2), int(y1+h/2)\n",
    "        cv2.circle(img, (cx, cy), 5, (255, 0, 255), cv2.FILLED)\n",
    "\n",
    "\n",
    "        #Up Count\n",
    "        if limitsUp[0] < cx < limitsUp[2] and limitsUp[1]-10 < cy < limitsUp[3]+10:\n",
    "            if Id not in totalCountUp:\n",
    "                totalCountUp.append(Id)\n",
    "                cv2.line(img, (limitsUp[0], limitsUp[1]), (limitsUp[2], limitsUp[3]), (0,255,0),5)\n",
    "\n",
    "        #Down Count\n",
    "        if limitsDown[0] < cx < limitsDown[2] and limitsDown[1]-10 < cy < limitsDown[3]+10:\n",
    "            if Id not in totalCountDown:\n",
    "                totalCountDown.append(Id)\n",
    "                cv2.line(img, (limitsDown[0], limitsDown[1]), (limitsDown[2], limitsDown[3]), (0,255,0),5)\n",
    "\n",
    "    cvzone.putTextRect(img, f'CountUp: {len(totalCountUp)} CountDown: {len(totalCountDown)}' ,(730,250), scale = 2, thickness = 3, offset=10)\n",
    "\n",
    "    cv2.imshow(\"Video\",img)\n",
    "    cv2.waitKey(1)\n",
    "        \n",
    "\n",
    "    "
   ]
  },
  {
   "cell_type": "code",
   "execution_count": null,
   "id": "b3c14965-8743-4dde-b42d-e55c4b0f06dc",
   "metadata": {},
   "outputs": [],
   "source": []
  }
 ],
 "metadata": {
  "kernelspec": {
   "display_name": "Python 3 (ipykernel)",
   "language": "python",
   "name": "python3"
  },
  "language_info": {
   "codemirror_mode": {
    "name": "ipython",
    "version": 3
   },
   "file_extension": ".py",
   "mimetype": "text/x-python",
   "name": "python",
   "nbconvert_exporter": "python",
   "pygments_lexer": "ipython3",
   "version": "3.12.6"
  }
 },
 "nbformat": 4,
 "nbformat_minor": 5
}
